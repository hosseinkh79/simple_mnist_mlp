{
 "cells": [
  {
   "cell_type": "code",
   "execution_count": 61,
   "metadata": {},
   "outputs": [],
   "source": [
    "# import torch\n",
    "# from torchvision import datasets, transforms\n",
    "# from torch.utils.data import DataLoader\n",
    "\n",
    "\n",
    "# ROOT_DATA_PATH = 'E:\\\\Programming\\\\Per\\\\Python\\\\Uni_Projects\\\\Neural_Networks\\\\mnist_project\\\\data'\n",
    "\n",
    "# # Define a transform to normalize the data\n",
    "# transform = transforms.Compose([\n",
    "#     transforms.ToTensor(),  # Converts PIL Image or numpy.ndarray to a torch.FloatTensor\n",
    "#     transforms.Normalize((0.5,), (0.5,))\n",
    "# ])\n",
    "\n",
    "# # Download and load the training set\n",
    "# batch_size = 64\n",
    "\n",
    "# train_dataset = datasets.MNIST(root=ROOT_DATA_PATH, train=True, transform=transform, download=True)\n",
    "# train_dataloader = DataLoader(dataset=train_dataset, batch_size=batch_size, shuffle=True)\n",
    "\n",
    "# # Similarly, you can download and load the test set\n",
    "# test_dataset = datasets.MNIST(root=ROOT_DATA_PATH, train=False, transform=transform, download=True)\n",
    "# test_dataloader = DataLoader(dataset=test_dataset, batch_size=64, shuffle=False)"
   ]
  },
  {
   "cell_type": "code",
   "execution_count": 62,
   "metadata": {},
   "outputs": [],
   "source": [
    "# # len(train_dataset), train_dataset.classes\n",
    "# import matplotlib.pyplot as plt\n",
    "\n",
    "# images, labels = next(iter(train_dataloader))\n",
    "# image = images[0].view(1, 28, 28)\n",
    "# label = labels[0].item()\n",
    "# # print(label)\n",
    "# image = image.permute(1, 2, 0)\n",
    "# # image = image * 0.5 + 0.5\n",
    "# # plt.imshow(image);\n",
    "# # plt.title(f'label : '+str(label));"
   ]
  },
  {
   "cell_type": "code",
   "execution_count": 63,
   "metadata": {},
   "outputs": [],
   "source": [
    "#model\n",
    "from torch import nn\n",
    "\n",
    "class MLP(nn.Module):\n",
    "    def __init__(self, in_features, num_classes, list_hidden_features_size):\n",
    "        super().__init__()\n",
    "        # self.num_hidden_layer = num_hidden_layer\n",
    "\n",
    "        self.input_layer = nn.Linear(in_features, list_hidden_features_size[0])\n",
    "        \n",
    "        self.hidden_layers = nn.ModuleList(\n",
    "            [nn.Linear(list_hidden_features_size[i], list_hidden_features_size[i+1]) for i in range(len(list_hidden_features_size)-1)]\n",
    "        )\n",
    "\n",
    "        self.out_layer = nn.Linear(list_hidden_features_size[-1], num_classes)\n",
    "\n",
    "    def forward(self, x):\n",
    "        x = torch.relu(self.input_layer(x)) \n",
    "        for layer in self.hidden_layers:\n",
    "            x = torch.relu(layer(x))\n",
    "\n",
    "        x = self.out_layer(x)\n",
    "        \n",
    "        return x"
   ]
  },
  {
   "cell_type": "code",
   "execution_count": null,
   "metadata": {},
   "outputs": [],
   "source": [
    "# from torchinfo import summary\n",
    "\n",
    "# X, y = next(iter(train_dataloader))\n",
    "# print(X.shape)\n",
    "\n",
    "# in_feat = X.shape[-1] * X.shape[-1]\n",
    "# hiddens = [32, 20, 15]\n",
    "# model = MLP(in_features=in_feat, num_classes=10, list_hidden_features_size=hiddens)\n",
    "\n",
    "\n",
    "# print(X.shape)\n",
    "# X = X.view(batch_size, -1)\n",
    "# print(X.shape)\n",
    "\n",
    "# out = model(X)\n",
    "# out.shape\n"
   ]
  },
  {
   "cell_type": "code",
   "execution_count": null,
   "metadata": {},
   "outputs": [],
   "source": [
    "# import torch.onnx\n",
    "\n",
    "# # Specify input size\n",
    "# model = model.to('cpu')\n",
    "# dummy_input = image.to('cpu')\n",
    "\n",
    "# # Export the model to ONNX\n",
    "# onnx_path = 'E:\\\\dynamic_linear_model.onnx'\n",
    "# torch.onnx.export(model, dummy_input, onnx_path, verbose=True)"
   ]
  },
  {
   "cell_type": "code",
   "execution_count": 103,
   "metadata": {},
   "outputs": [],
   "source": [
    "#Train and test \n",
    "def one_step_train(model, train_dataloader, loss_fn, optimizer, device):\n",
    "    model = model.to(device)\n",
    "\n",
    "    model.train()\n",
    "    train_loss, train_acc = 0, 0\n",
    "\n",
    "    for batch, (X, y) in enumerate(train_dataloader):\n",
    "        X, y = X.to(device), y.to(device)\n",
    "\n",
    "        y_pred = model(X.view(X.size(0), -1))\n",
    "        loss = loss_fn(y_pred, y)\n",
    "        train_loss += loss.item()\n",
    "\n",
    "        optimizer.zero_grad()\n",
    "\n",
    "        loss.backward()\n",
    "\n",
    "        optimizer.step()\n",
    "\n",
    "        y_pred_class = torch.argmax(torch.softmax(y_pred, dim=1), dim=1)\n",
    "        train_acc += ((y_pred_class == y).sum().item())/len(y_pred)\n",
    "\n",
    "    train_loss = train_loss/len(train_dataloader)\n",
    "    train_acc = train_acc/len(train_dataloader)\n",
    "\n",
    "    return train_loss, train_acc\n",
    "\n",
    "def one_step_test(model, test_dataloader, loss_fn, device):\n",
    "    model = model.to(device)\n",
    "\n",
    "    model.eval()\n",
    "    test_loss, test_acc = 0, 0\n",
    "\n",
    "    with torch.inference_mode():\n",
    "\n",
    "        for batch, (X, y) in enumerate(test_dataloader):\n",
    "            X, y = X.to(device), y.to(device)\n",
    "\n",
    "            y_pred = model(X.view(X.size(0), -1))\n",
    "            loss = loss_fn(y_pred, y)\n",
    "            test_loss += loss.item()\n",
    "\n",
    "            y_pred_class = torch.argmax(torch.softmax(y_pred, dim=1), dim=1)\n",
    "            test_acc += ((y_pred_class == y).sum().item())/len(y_pred)\n",
    "\n",
    "        test_loss = test_loss/len(test_dataloader)\n",
    "        test_acc = test_acc/len(test_dataloader)\n",
    "\n",
    "    return test_loss, test_acc\n",
    "        "
   ]
  },
  {
   "cell_type": "code",
   "execution_count": 9,
   "metadata": {},
   "outputs": [
    {
     "name": "stdout",
     "output_type": "stream",
     "text": [
      "The autoreload extension is already loaded. To reload it, use:\n",
      "  %reload_ext autoreload\n"
     ]
    }
   ],
   "source": [
    "%load_ext autoreload\n",
    "%autoreload 2\n",
    "\n",
    "import torch\n",
    "from torch import nn\n",
    "from torchvision import datasets, transforms\n",
    "from torch.utils.data import DataLoader\n",
    "\n",
    "from sklearn.model_selection import StratifiedKFold\n",
    "from torch.utils.data import Subset\n",
    "from torchinfo import summary\n",
    "\n",
    "from going_modular.model import MLP\n",
    "from going_modular.utils import plot_loss_curves\n",
    "from going_modular import engine\n",
    "\n",
    "# from going_modular.data_setup import train_dataset, train_dataloader, test_dataloader"
   ]
  },
  {
   "cell_type": "code",
   "execution_count": 10,
   "metadata": {},
   "outputs": [],
   "source": [
    "device = 'cuda' if torch.cuda.is_available() else 'cpu'\n",
    "\n",
    "hiddens = [64, 32, 16]\n",
    "model = MLP(in_features=784, num_classes=10, list_hidden_features_size=hiddens)\n",
    "\n",
    "loss_fn = nn.CrossEntropyLoss()\n",
    "optimizer = torch.optim.Adam(model.parameters(), lr=.0001)"
   ]
  },
  {
   "cell_type": "code",
   "execution_count": 11,
   "metadata": {},
   "outputs": [],
   "source": [
    "# summary(model, input_size=(64, 784))"
   ]
  },
  {
   "cell_type": "code",
   "execution_count": 12,
   "metadata": {},
   "outputs": [],
   "source": [
    "# from tqdm.auto import tqdm\n",
    "\n",
    "# def train(model,\n",
    "#           train_dataloader,\n",
    "#           test_dataloader,\n",
    "#           loss_fn,\n",
    "#           optimizer,\n",
    "#           device,\n",
    "#           epochs):\n",
    "    \n",
    "#     results = {\n",
    "#             'train_loss':[],\n",
    "#             'train_acc':[],\n",
    "#             'test_loss':[],\n",
    "#             'test_acc':[]\n",
    "#         }\n",
    "    \n",
    "#     for epoch in tqdm(range(epochs)):\n",
    "\n",
    "#         train_loss, train_acc = one_step_train(model,\n",
    "#                                                 train_dataloader,\n",
    "#                                                 loss_fn, optimizer,\n",
    "#                                                 device)\n",
    "\n",
    "#         test_loss, test_acc = one_step_test(model,\n",
    "#                                             test_dataloader,\n",
    "#                                             loss_fn,\n",
    "#                                             device)\n",
    "\n",
    "#         results['train_loss'].append(train_loss)\n",
    "#         results['train_acc'].append(train_acc)\n",
    "#         results['test_loss'].append(test_loss)\n",
    "#         results['test_acc'].append(test_acc)\n",
    "\n",
    "#         print(\n",
    "#           f\"Epoch: {epoch+1} | \"\n",
    "#           f\"train_loss: {train_loss:.4f} | \"\n",
    "#           f\"train_acc: {train_acc:.4f} | \"\n",
    "#           f\"test_loss: {test_loss:.4f} | \"\n",
    "#           f\"test_acc: {test_acc:.4f}\"\n",
    "#         )\n",
    "        \n",
    "#     return results\n",
    "\n"
   ]
  },
  {
   "cell_type": "code",
   "execution_count": 13,
   "metadata": {},
   "outputs": [
    {
     "name": "stdout",
     "output_type": "stream",
     "text": [
      "Epoch: 1 | train_loss: 2.3148 | train_acc: 0.0978 | test_loss: 2.3084 | test_acc: 0.1151\n",
      "Epoch: 2 | train_loss: 2.2810 | train_acc: 0.1531 | test_loss: 2.2407 | test_acc: 0.1436\n"
     ]
    },
    {
     "data": {
      "image/png": "[encoded data removed]",
      "text/plain": [
       "<Figure size 1000x400 with 2 Axes>"
      ]
     },
     "metadata": {},
     "output_type": "display_data"
    }
   ],
   "source": [
    "device = 'cuda' if torch.cuda.is_available() else 'cpu'\n",
    "\n",
    "hiddens = [64, 32, 32, 32, 32, 16]\n",
    "model = MLP(in_features=784, num_classes=10, list_hidden_features_size=hiddens)\n",
    "\n",
    "loss_fn = nn.CrossEntropyLoss()\n",
    "optimizer = torch.optim.AdamW(model.parameters(), lr=.00001)\n",
    "\n",
    "results = engine.train(model=model,\n",
    "      train_dataloader=train_dataloader,\n",
    "      test_dataloader=test_dataloader,\n",
    "      loss_fn=loss_fn,\n",
    "      optimizer=optimizer,\n",
    "      device=device,\n",
    "      epochs=2)\n",
    "\n",
    "plot_loss_curves(results=results)"
   ]
  },
  {
   "cell_type": "code",
   "execution_count": 144,
   "metadata": {},
   "outputs": [],
   "source": [
    "# def plot_loss_curves(results):\n",
    "\n",
    "#     loss = results[\"train_loss\"]\n",
    "#     test_loss = results[\"test_loss\"]\n",
    "\n",
    "#     accuracy = results[\"train_acc\"]\n",
    "#     test_accuracy = results[\"test_acc\"]\n",
    "\n",
    "#     epochs = range(len(results[\"train_loss\"]))\n",
    "\n",
    "#     plt.figure(figsize=(10, 4))\n",
    "\n",
    "#     # Plot loss\n",
    "#     plt.subplot(1, 2, 1)\n",
    "#     plt.plot(epochs, loss, label=\"train_loss\")\n",
    "#     plt.plot(epochs, test_loss, label=\"test_loss\")\n",
    "#     plt.title(\"Loss\")\n",
    "#     plt.xlabel(\"Epochs\")\n",
    "#     plt.legend()\n",
    "\n",
    "#     # Plot accuracy\n",
    "#     plt.subplot(1, 2, 2)\n",
    "#     plt.plot(epochs, accuracy, label=\"train_accuracy\")\n",
    "#     plt.plot(epochs, test_accuracy, label=\"test_accuracy\")\n",
    "#     plt.title(\"Accuracy\")\n",
    "#     plt.xlabel(\"Epochs\")\n",
    "#     plt.legend()"
   ]
  },
  {
   "cell_type": "code",
   "execution_count": null,
   "metadata": {},
   "outputs": [],
   "source": [
    "# plot_loss_curves(results=results)"
   ]
  },
  {
   "cell_type": "code",
   "execution_count": 158,
   "metadata": {},
   "outputs": [
    {
     "name": "stderr",
     "output_type": "stream",
     "text": [
      "100%|██████████| 1/1 [00:13<00:00, 13.99s/it]\n"
     ]
    },
    {
     "name": "stdout",
     "output_type": "stream",
     "text": [
      "Epoch: 1 | train_loss: 0.8467 | train_acc: 0.7747 | test_loss: 0.8081 | test_acc: 0.7823\n"
     ]
    },
    {
     "name": "stderr",
     "output_type": "stream",
     "text": [
      "  0%|          | 0/1 [00:03<?, ?it/s]\n"
     ]
    },
    {
     "ename": "KeyboardInterrupt",
     "evalue": "",
     "output_type": "error",
     "traceback": [
      "\u001b[1;31m---------------------------------------------------------------------------\u001b[0m",
      "\u001b[1;31mKeyboardInterrupt\u001b[0m                         Traceback (most recent call last)",
      "\u001b[1;32me:\\Programming\\Per\\Python\\Uni_Projects\\Neural_Networks\\mnist_project\\mnist.ipynb Cell 13\u001b[0m line \u001b[0;36m1\n\u001b[0;32m     <a href='vscode-notebook-cell:/e%3A/Programming/Per/Python/Uni_Projects/Neural_Networks/mnist_project/mnist.ipynb#X23sZmlsZQ%3D%3D?line=11'>12</a>\u001b[0m valid_dataset_fold \u001b[39m=\u001b[39m Subset(train_dataset, val_index)\n\u001b[0;32m     <a href='vscode-notebook-cell:/e%3A/Programming/Per/Python/Uni_Projects/Neural_Networks/mnist_project/mnist.ipynb#X23sZmlsZQ%3D%3D?line=12'>13</a>\u001b[0m valid_loader \u001b[39m=\u001b[39m DataLoader(valid_dataset_fold, batch_size\u001b[39m=\u001b[39mbatch_size, shuffle\u001b[39m=\u001b[39m\u001b[39mTrue\u001b[39;00m, num_workers\u001b[39m=\u001b[39m\u001b[39m2\u001b[39m)\n\u001b[1;32m---> <a href='vscode-notebook-cell:/e%3A/Programming/Per/Python/Uni_Projects/Neural_Networks/mnist_project/mnist.ipynb#X23sZmlsZQ%3D%3D?line=14'>15</a>\u001b[0m results_foreach_fold \u001b[39m=\u001b[39m engine\u001b[39m.\u001b[39;49mtrain(model\u001b[39m=\u001b[39;49mmodel, \n\u001b[0;32m     <a href='vscode-notebook-cell:/e%3A/Programming/Per/Python/Uni_Projects/Neural_Networks/mnist_project/mnist.ipynb#X23sZmlsZQ%3D%3D?line=15'>16</a>\u001b[0m                                     train_dataloader\u001b[39m=\u001b[39;49mtrain_loader,\n\u001b[0;32m     <a href='vscode-notebook-cell:/e%3A/Programming/Per/Python/Uni_Projects/Neural_Networks/mnist_project/mnist.ipynb#X23sZmlsZQ%3D%3D?line=16'>17</a>\u001b[0m                                     test_dataloader\u001b[39m=\u001b[39;49mtest_dataloader,\n\u001b[0;32m     <a href='vscode-notebook-cell:/e%3A/Programming/Per/Python/Uni_Projects/Neural_Networks/mnist_project/mnist.ipynb#X23sZmlsZQ%3D%3D?line=17'>18</a>\u001b[0m                                     loss_fn\u001b[39m=\u001b[39;49mloss_fn, \n\u001b[0;32m     <a href='vscode-notebook-cell:/e%3A/Programming/Per/Python/Uni_Projects/Neural_Networks/mnist_project/mnist.ipynb#X23sZmlsZQ%3D%3D?line=18'>19</a>\u001b[0m                                     optimizer\u001b[39m=\u001b[39;49moptimizer, \n\u001b[0;32m     <a href='vscode-notebook-cell:/e%3A/Programming/Per/Python/Uni_Projects/Neural_Networks/mnist_project/mnist.ipynb#X23sZmlsZQ%3D%3D?line=19'>20</a>\u001b[0m                                     device\u001b[39m=\u001b[39;49mdevice,\n\u001b[0;32m     <a href='vscode-notebook-cell:/e%3A/Programming/Per/Python/Uni_Projects/Neural_Networks/mnist_project/mnist.ipynb#X23sZmlsZQ%3D%3D?line=20'>21</a>\u001b[0m                                     epochs\u001b[39m=\u001b[39;49m\u001b[39m1\u001b[39;49m)\n\u001b[0;32m     <a href='vscode-notebook-cell:/e%3A/Programming/Per/Python/Uni_Projects/Neural_Networks/mnist_project/mnist.ipynb#X23sZmlsZQ%3D%3D?line=21'>22</a>\u001b[0m \u001b[39m#return last test_acc \u001b[39;00m\n\u001b[0;32m     <a href='vscode-notebook-cell:/e%3A/Programming/Per/Python/Uni_Projects/Neural_Networks/mnist_project/mnist.ipynb#X23sZmlsZQ%3D%3D?line=22'>23</a>\u001b[0m last_test_acc \u001b[39m=\u001b[39m kfold_tests_results\u001b[39m.\u001b[39mappend(results_foreach_fold[\u001b[39m'\u001b[39m\u001b[39mtest_acc\u001b[39m\u001b[39m'\u001b[39m][\u001b[39m-\u001b[39m\u001b[39m1\u001b[39m]) \n",
      "File \u001b[1;32me:\\Programming\\Per\\Python\\Uni_Projects\\Neural_Networks\\mnist_project\\engine.py:77\u001b[0m, in \u001b[0;36mtrain\u001b[1;34m(model, train_dataloader, test_dataloader, loss_fn, optimizer, device, epochs)\u001b[0m\n\u001b[0;32m     68\u001b[0m results \u001b[39m=\u001b[39m {\n\u001b[0;32m     69\u001b[0m         \u001b[39m'\u001b[39m\u001b[39mtrain_loss\u001b[39m\u001b[39m'\u001b[39m:[],\n\u001b[0;32m     70\u001b[0m         \u001b[39m'\u001b[39m\u001b[39mtrain_acc\u001b[39m\u001b[39m'\u001b[39m:[],\n\u001b[0;32m     71\u001b[0m         \u001b[39m'\u001b[39m\u001b[39mtest_loss\u001b[39m\u001b[39m'\u001b[39m:[],\n\u001b[0;32m     72\u001b[0m         \u001b[39m'\u001b[39m\u001b[39mtest_acc\u001b[39m\u001b[39m'\u001b[39m:[]\n\u001b[0;32m     73\u001b[0m     }\n\u001b[0;32m     75\u001b[0m \u001b[39mfor\u001b[39;00m epoch \u001b[39min\u001b[39;00m \u001b[39mrange\u001b[39m(epochs):\n\u001b[1;32m---> 77\u001b[0m     train_loss, train_acc \u001b[39m=\u001b[39m one_step_train(model,\n\u001b[0;32m     78\u001b[0m                                             train_dataloader,\n\u001b[0;32m     79\u001b[0m                                             loss_fn, optimizer,\n\u001b[0;32m     80\u001b[0m                                             device)\n\u001b[0;32m     82\u001b[0m     test_loss, test_acc \u001b[39m=\u001b[39m one_step_test(model,\n\u001b[0;32m     83\u001b[0m                                         test_dataloader,\n\u001b[0;32m     84\u001b[0m                                         loss_fn,\n\u001b[0;32m     85\u001b[0m                                         device)\n\u001b[0;32m     87\u001b[0m     results[\u001b[39m'\u001b[39m\u001b[39mtrain_loss\u001b[39m\u001b[39m'\u001b[39m]\u001b[39m.\u001b[39mappend(train_loss)\n",
      "File \u001b[1;32me:\\Programming\\Per\\Python\\Uni_Projects\\Neural_Networks\\mnist_project\\engine.py:13\u001b[0m, in \u001b[0;36mone_step_train\u001b[1;34m(model, train_dataloader, loss_fn, optimizer, device)\u001b[0m\n\u001b[0;32m     10\u001b[0m model\u001b[39m.\u001b[39mtrain()\n\u001b[0;32m     11\u001b[0m train_loss, train_acc \u001b[39m=\u001b[39m \u001b[39m0\u001b[39m, \u001b[39m0\u001b[39m\n\u001b[1;32m---> 13\u001b[0m \u001b[39mfor\u001b[39;00m batch, (X, y) \u001b[39min\u001b[39;00m \u001b[39menumerate\u001b[39m(train_dataloader):\n\u001b[0;32m     14\u001b[0m     X, y \u001b[39m=\u001b[39m X\u001b[39m.\u001b[39mto(device), y\u001b[39m.\u001b[39mto(device)\n\u001b[0;32m     16\u001b[0m     y_pred \u001b[39m=\u001b[39m model(X\u001b[39m.\u001b[39mview(X\u001b[39m.\u001b[39msize(\u001b[39m0\u001b[39m), \u001b[39m-\u001b[39m\u001b[39m1\u001b[39m))\n",
      "File \u001b[1;32m~\\AppData\\Local\\Programs\\Python\\Python311\\Lib\\site-packages\\torch\\utils\\data\\dataloader.py:441\u001b[0m, in \u001b[0;36mDataLoader.__iter__\u001b[1;34m(self)\u001b[0m\n\u001b[0;32m    439\u001b[0m     \u001b[39mreturn\u001b[39;00m \u001b[39mself\u001b[39m\u001b[39m.\u001b[39m_iterator\n\u001b[0;32m    440\u001b[0m \u001b[39melse\u001b[39;00m:\n\u001b[1;32m--> 441\u001b[0m     \u001b[39mreturn\u001b[39;00m \u001b[39mself\u001b[39;49m\u001b[39m.\u001b[39;49m_get_iterator()\n",
      "File \u001b[1;32m~\\AppData\\Local\\Programs\\Python\\Python311\\Lib\\site-packages\\torch\\utils\\data\\dataloader.py:388\u001b[0m, in \u001b[0;36mDataLoader._get_iterator\u001b[1;34m(self)\u001b[0m\n\u001b[0;32m    386\u001b[0m \u001b[39melse\u001b[39;00m:\n\u001b[0;32m    387\u001b[0m     \u001b[39mself\u001b[39m\u001b[39m.\u001b[39mcheck_worker_number_rationality()\n\u001b[1;32m--> 388\u001b[0m     \u001b[39mreturn\u001b[39;00m _MultiProcessingDataLoaderIter(\u001b[39mself\u001b[39;49m)\n",
      "File \u001b[1;32m~\\AppData\\Local\\Programs\\Python\\Python311\\Lib\\site-packages\\torch\\utils\\data\\dataloader.py:1042\u001b[0m, in \u001b[0;36m_MultiProcessingDataLoaderIter.__init__\u001b[1;34m(self, loader)\u001b[0m\n\u001b[0;32m   1035\u001b[0m w\u001b[39m.\u001b[39mdaemon \u001b[39m=\u001b[39m \u001b[39mTrue\u001b[39;00m\n\u001b[0;32m   1036\u001b[0m \u001b[39m# NB: Process.start() actually take some time as it needs to\u001b[39;00m\n\u001b[0;32m   1037\u001b[0m \u001b[39m#     start a process and pass the arguments over via a pipe.\u001b[39;00m\n\u001b[0;32m   1038\u001b[0m \u001b[39m#     Therefore, we only add a worker to self._workers list after\u001b[39;00m\n\u001b[0;32m   1039\u001b[0m \u001b[39m#     it started, so that we do not call .join() if program dies\u001b[39;00m\n\u001b[0;32m   1040\u001b[0m \u001b[39m#     before it starts, and __del__ tries to join but will get:\u001b[39;00m\n\u001b[0;32m   1041\u001b[0m \u001b[39m#     AssertionError: can only join a started process.\u001b[39;00m\n\u001b[1;32m-> 1042\u001b[0m w\u001b[39m.\u001b[39;49mstart()\n\u001b[0;32m   1043\u001b[0m \u001b[39mself\u001b[39m\u001b[39m.\u001b[39m_index_queues\u001b[39m.\u001b[39mappend(index_queue)\n\u001b[0;32m   1044\u001b[0m \u001b[39mself\u001b[39m\u001b[39m.\u001b[39m_workers\u001b[39m.\u001b[39mappend(w)\n",
      "File \u001b[1;32m~\\AppData\\Local\\Programs\\Python\\Python311\\Lib\\multiprocessing\\process.py:121\u001b[0m, in \u001b[0;36mBaseProcess.start\u001b[1;34m(self)\u001b[0m\n\u001b[0;32m    118\u001b[0m \u001b[39massert\u001b[39;00m \u001b[39mnot\u001b[39;00m _current_process\u001b[39m.\u001b[39m_config\u001b[39m.\u001b[39mget(\u001b[39m'\u001b[39m\u001b[39mdaemon\u001b[39m\u001b[39m'\u001b[39m), \\\n\u001b[0;32m    119\u001b[0m        \u001b[39m'\u001b[39m\u001b[39mdaemonic processes are not allowed to have children\u001b[39m\u001b[39m'\u001b[39m\n\u001b[0;32m    120\u001b[0m _cleanup()\n\u001b[1;32m--> 121\u001b[0m \u001b[39mself\u001b[39m\u001b[39m.\u001b[39m_popen \u001b[39m=\u001b[39m \u001b[39mself\u001b[39;49m\u001b[39m.\u001b[39;49m_Popen(\u001b[39mself\u001b[39;49m)\n\u001b[0;32m    122\u001b[0m \u001b[39mself\u001b[39m\u001b[39m.\u001b[39m_sentinel \u001b[39m=\u001b[39m \u001b[39mself\u001b[39m\u001b[39m.\u001b[39m_popen\u001b[39m.\u001b[39msentinel\n\u001b[0;32m    123\u001b[0m \u001b[39m# Avoid a refcycle if the target function holds an indirect\u001b[39;00m\n\u001b[0;32m    124\u001b[0m \u001b[39m# reference to the process object (see bpo-30775)\u001b[39;00m\n",
      "File \u001b[1;32m~\\AppData\\Local\\Programs\\Python\\Python311\\Lib\\multiprocessing\\context.py:224\u001b[0m, in \u001b[0;36mProcess._Popen\u001b[1;34m(process_obj)\u001b[0m\n\u001b[0;32m    222\u001b[0m \u001b[39m@staticmethod\u001b[39m\n\u001b[0;32m    223\u001b[0m \u001b[39mdef\u001b[39;00m \u001b[39m_Popen\u001b[39m(process_obj):\n\u001b[1;32m--> 224\u001b[0m     \u001b[39mreturn\u001b[39;00m _default_context\u001b[39m.\u001b[39;49mget_context()\u001b[39m.\u001b[39;49mProcess\u001b[39m.\u001b[39;49m_Popen(process_obj)\n",
      "File \u001b[1;32m~\\AppData\\Local\\Programs\\Python\\Python311\\Lib\\multiprocessing\\context.py:336\u001b[0m, in \u001b[0;36mSpawnProcess._Popen\u001b[1;34m(process_obj)\u001b[0m\n\u001b[0;32m    333\u001b[0m \u001b[39m@staticmethod\u001b[39m\n\u001b[0;32m    334\u001b[0m \u001b[39mdef\u001b[39;00m \u001b[39m_Popen\u001b[39m(process_obj):\n\u001b[0;32m    335\u001b[0m     \u001b[39mfrom\u001b[39;00m \u001b[39m.\u001b[39;00m\u001b[39mpopen_spawn_win32\u001b[39;00m \u001b[39mimport\u001b[39;00m Popen\n\u001b[1;32m--> 336\u001b[0m     \u001b[39mreturn\u001b[39;00m Popen(process_obj)\n",
      "File \u001b[1;32m~\\AppData\\Local\\Programs\\Python\\Python311\\Lib\\multiprocessing\\popen_spawn_win32.py:94\u001b[0m, in \u001b[0;36mPopen.__init__\u001b[1;34m(self, process_obj)\u001b[0m\n\u001b[0;32m     92\u001b[0m \u001b[39mtry\u001b[39;00m:\n\u001b[0;32m     93\u001b[0m     reduction\u001b[39m.\u001b[39mdump(prep_data, to_child)\n\u001b[1;32m---> 94\u001b[0m     reduction\u001b[39m.\u001b[39;49mdump(process_obj, to_child)\n\u001b[0;32m     95\u001b[0m \u001b[39mfinally\u001b[39;00m:\n\u001b[0;32m     96\u001b[0m     set_spawning_popen(\u001b[39mNone\u001b[39;00m)\n",
      "File \u001b[1;32m~\\AppData\\Local\\Programs\\Python\\Python311\\Lib\\multiprocessing\\reduction.py:60\u001b[0m, in \u001b[0;36mdump\u001b[1;34m(obj, file, protocol)\u001b[0m\n\u001b[0;32m     58\u001b[0m \u001b[39mdef\u001b[39;00m \u001b[39mdump\u001b[39m(obj, file, protocol\u001b[39m=\u001b[39m\u001b[39mNone\u001b[39;00m):\n\u001b[0;32m     59\u001b[0m \u001b[39m    \u001b[39m\u001b[39m'''Replacement for pickle.dump() using ForkingPickler.'''\u001b[39;00m\n\u001b[1;32m---> 60\u001b[0m     ForkingPickler(file, protocol)\u001b[39m.\u001b[39;49mdump(obj)\n",
      "\u001b[1;31mKeyboardInterrupt\u001b[0m: "
     ]
    }
   ],
   "source": [
    "y = train_dataset.targets\n",
    "dataset_indices = list(range(len(train_dataset)))\n",
    "\n",
    "skf = StratifiedKFold(n_splits=5, shuffle=True, random_state=42)\n",
    "\n",
    "batch_size = 64\n",
    "\n",
    "kfold_tests_results = []\n",
    "for fold, (train_index, val_index) in enumerate(skf.split(dataset_indices, y)):\n",
    "    \n",
    "    train_dataset_fold = Subset(train_dataset, train_index)\n",
    "    train_loader = DataLoader(train_dataset_fold, batch_size=batch_size, shuffle=True, num_workers=2)\n",
    "\n",
    "    valid_dataset_fold = Subset(train_dataset, val_index)\n",
    "    valid_loader = DataLoader(valid_dataset_fold, batch_size=batch_size, shuffle=True, num_workers=2)\n",
    "\n",
    "    results_each_fold = engine.train(model=model, \n",
    "                                        train_dataloader=train_loader,\n",
    "                                        test_dataloader=test_dataloader,\n",
    "                                        loss_fn=loss_fn, \n",
    "                                        optimizer=optimizer, \n",
    "                                        device=device,\n",
    "                                        epochs=1)\n",
    "    #return last test_acc \n",
    "    last_test_acc = kfold_tests_results.append(results_each_fold['test_acc'][-1]) \n",
    "\n",
    "print(f'test_accs is :{kfold_tests_results}')\n",
    "print(f'test_acc mean for our model is :{sum(kfold_tests_results)/len(kfold_tests_results)}')"
   ]
  },
  {
   "cell_type": "code",
   "execution_count": null,
   "metadata": {},
   "outputs": [],
   "source": []
  }
 ],
 "metadata": {
  "kernelspec": {
   "display_name": ".venv",
   "language": "python",
   "name": "python3"
  },
  "language_info": {
   "codemirror_mode": {
    "name": "ipython",
    "version": 3
   },
   "file_extension": ".py",
   "mimetype": "text/x-python",
   "name": "python",
   "nbconvert_exporter": "python",
   "pygments_lexer": "ipython3",
   "version": "3.11.4"
  }
 },
 "nbformat": 4,
 "nbformat_minor": 2
}
